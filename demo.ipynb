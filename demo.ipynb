{
 "cells": [
  {
   "cell_type": "markdown",
   "metadata": {},
   "source": [
    "# Evaluation Demo\n",
    "\n",
    "## Portfolio Analysis"
   ]
  },
  {
   "cell_type": "code",
   "execution_count": 4,
   "metadata": {
    "vscode": {
     "languageId": "shellscript"
    }
   },
   "outputs": [
    {
     "name": "stderr",
     "output_type": "stream",
     "text": [
      "  % Total    % Received % Xferd  Average Speed   Time    Time     Time  Current\n",
      "                                 Dload  Upload   Total   Spent    Left  Speed\n"
     ]
    },
    {
     "name": "stderr",
     "output_type": "stream",
     "text": [
      "100 25.3M  100 25.3M    0     0  10.4M      0  0:00:02  0:00:02 --:--:-- 10.4M\n",
      "  % Total    % Received % Xferd  Average Speed   Time    Time     Time  Current\n",
      "                                 Dload  Upload   Total   Spent    Left  Speed\n",
      "100  165k  100  165k    0     0   713k      0 --:--:-- --:--:-- --:--:--  715k\n"
     ]
    },
    {
     "name": "stdout",
     "output_type": "stream",
     "text": [
      "Archive:  results.zip\n",
      "  inflating: bench_meta.csv          \n",
      "  inflating: results_cloud_detailed.csv  \n",
      "  inflating: results_main_detailed.csv  \n",
      "  inflating: results_nolimit_detailed.csv  \n",
      "  inflating: results_parallel_detailed.csv  \n",
      "  inflating: results_special_detailed.csv  \n"
     ]
    }
   ],
   "source": [
    "%%bash\n",
    "curl https://benchmark-database.de/getdatabase/meta --output meta.db\n",
    "curl https://satcompetition.github.io/2023/downloads/sc2023-detailed-results.zip --output results.zip\n",
    "unzip results.zip"
   ]
  },
  {
   "cell_type": "code",
   "execution_count": 27,
   "metadata": {},
   "outputs": [
    {
     "name": "stdout",
     "output_type": "stream",
     "text": [
      "                          family  count        AMSAT_  BreakID_kissat_low_sh  \\\n",
      "0              interval-matching     20  10000.000000           10000.000000   \n",
      "1            register-allocation     20   8962.413500            2016.385696   \n",
      "2                   set-covering     20      8.596939             262.389965   \n",
      "3                     or_randxor      5  10000.000000             103.927660   \n",
      "4                brent-equations     19    684.381491            1133.501221   \n",
      "5               hashtable-safety     20    368.622450           10000.000000   \n",
      "6             cryptography-ascon     20    361.009195            2673.768060   \n",
      "7             school-timetabling     19   1129.047268            2371.415084   \n",
      "8                        satcoin     15   1601.136267           10000.000000   \n",
      "9           mutilated-chessboard     12   6144.539667            5135.770558   \n",
      "10                   grs-fp-comm     17   6321.562294            8258.639147   \n",
      "11                  cryptography      7   1597.183364            1570.640857   \n",
      "12                 argumentation     20   3528.643475            3820.578200   \n",
      "13         hardware-verification      8   2906.250074            3964.505586   \n",
      "14                       tseitin     11   8257.408764            6393.201014   \n",
      "15                         reg-n      5  10000.000000           10000.000000   \n",
      "16                         miter     11   3986.770909            3723.048591   \n",
      "17                   pigeon-hole      8   6340.021700            5128.033656   \n",
      "18  profitable-robust-production     20   5027.138650            5031.374355   \n",
      "19                 miscellaneous     70   2918.719136            3918.517073   \n",
      "20                 social-golfer     20   7366.719625            9013.047260   \n",
      "21                      planning      6     22.772641              10.984778   \n",
      "22         quasigroup-completion      5      9.117259               3.432613   \n",
      "23               subsumptiontest      5      5.280242              89.135700   \n",
      "24            cryptography-simon     17  10000.000000           10000.000000   \n",
      "25                           all    400   4116.228748            4913.321305   \n",
      "\n",
      "    CaDiCaL_vivinst   Cadical_ESA  Cadical_rel_1_5_3_Scavel        IsaSAT  \\\n",
      "0      10000.000000  10000.000000              10000.000000  10000.000000   \n",
      "1       8998.243000   9001.056500               9135.928000   8380.901100   \n",
      "2        259.731954    265.118718                218.584725  10000.000000   \n",
      "3      10000.000000  10000.000000              10000.000000  10000.000000   \n",
      "4        176.536636    184.156372                154.071378   3359.686159   \n",
      "5        460.957950    507.669000                478.240800   1092.545650   \n",
      "6        378.918850    369.490500                404.018690  10000.000000   \n",
      "7       1264.860684   1846.518142               2345.568647  10000.000000   \n",
      "8       7388.708667   7377.760667               7446.362000  10000.000000   \n",
      "9       2933.521942   3044.967467               3138.803842   3279.490083   \n",
      "10      3659.797635   3705.580618               3752.924182   8605.451941   \n",
      "11      1602.255783   1597.492543               1661.788686   3991.521843   \n",
      "12      3688.688250   3648.412955               3698.396350   7115.997650   \n",
      "13      2893.131350   2828.427410               2851.320288   4559.819729   \n",
      "14      8201.033809   8201.300309               8199.261845   8195.008564   \n",
      "15     10000.000000  10000.000000              10000.000000  10000.000000   \n",
      "16      3149.189383   3164.730039               3146.447631   5642.948900   \n",
      "17      6502.277469   6497.759308               6482.432063   6828.940733   \n",
      "18      2463.604095   2544.428990               2468.348430   5851.790350   \n",
      "19      3140.291079   3143.525774               2921.432192   5145.960364   \n",
      "20      7871.785745   7871.015447               7522.346005   9348.644000   \n",
      "21        13.028999     16.736037                 33.735838    144.715464   \n",
      "22         2.699294      2.753673                 17.926815     65.648929   \n",
      "23        46.469560     45.948020                 81.958014    150.643760   \n",
      "24     10000.000000  10000.000000               9700.118235  10000.000000   \n",
      "25      4048.626273   4085.341381               4050.951635   6821.783566   \n",
      "\n",
      "    Kissat_Inc_ESA  Kissat_MAB_Binary  ...  hKis_sat_psids    hKis_unsat  \\\n",
      "0     10000.000000       10000.000000  ...    10000.000000  10000.000000   \n",
      "1      7663.295450        8526.880000  ...     8974.385000   8903.941500   \n",
      "2      7548.750700        8220.701500  ...    10000.000000   8193.949000   \n",
      "3     10000.000000       10000.000000  ...     8903.334000  10000.000000   \n",
      "4      3013.666100         351.115767  ...     1290.248267    195.792753   \n",
      "5      1280.186800        1141.733500  ...      597.202500   1124.553700   \n",
      "6      2059.117800        2672.930850  ...     3458.132750   4504.175450   \n",
      "7      1324.714032        1206.245784  ...    10000.000000   1293.666974   \n",
      "8     10000.000000       10000.000000  ...    10000.000000  10000.000000   \n",
      "9      3194.711367        3718.463058  ...     3943.624583   3065.870517   \n",
      "10     3771.761082        3581.922882  ...     3562.930306   2644.809147   \n",
      "11     1558.890329        1577.682950  ...     1586.628297   1598.507423   \n",
      "12     4395.458450        4406.863840  ...     4129.787850   3948.616695   \n",
      "13     1590.138221        1575.285458  ...     1594.308968   1583.265144   \n",
      "14     8204.258812        8184.000288  ...     8186.618773   8208.759518   \n",
      "15     6808.966000        6782.804200  ...     6884.778000   7151.740800   \n",
      "16     3323.596956        3214.722072  ...     3950.294891   3242.125539   \n",
      "17     6352.997165        6356.584080  ...     6379.511613   6354.158256   \n",
      "18     5029.790440        4672.329495  ...     4874.079600   5032.630285   \n",
      "19     3085.665479        2936.957178  ...     3628.494242   3190.873664   \n",
      "20     7574.851600        8180.915515  ...     9109.009850   8537.519436   \n",
      "21        6.852649          11.720385  ...       43.293934     11.599570   \n",
      "22        4.682491           4.137269  ...       39.508065      2.856864   \n",
      "23       85.027440          91.437040  ...       89.897940     75.625220   \n",
      "24    10000.000000       10000.000000  ...    10000.000000  10000.000000   \n",
      "25     4794.273825        4753.712773  ...     5518.762355   4862.975502   \n",
      "\n",
      "    hKissatInc_unsat  kissat_3_1_0  kissat_hywalk_exp  kissat_hywalk_exp_gb  \\\n",
      "0        9715.409500  10000.000000       10000.000000          10000.000000   \n",
      "1        8317.396000  10000.000000        8824.813650           8857.859000   \n",
      "2       10000.000000    174.419280        6228.478950           6231.072250   \n",
      "3        8658.242000  10000.000000       10000.000000          10000.000000   \n",
      "4        5557.641295    249.807294         322.094808            291.659706   \n",
      "5         593.603750    805.044200        1129.958100           1138.049120   \n",
      "6       10000.000000    303.292305        1958.200350           2387.260600   \n",
      "7       10000.000000   1669.027647        1234.586389           1720.790237   \n",
      "8       10000.000000   2495.855800       10000.000000          10000.000000   \n",
      "9        2219.410283   4131.545850        2994.833008           3014.256892   \n",
      "10       2215.100159   3864.275876        3257.860906           3677.252700   \n",
      "11       1496.408843   1638.686181        1533.634204           1522.857549   \n",
      "12       3863.140750   3597.925700        4092.431200           4054.687900   \n",
      "13       1469.871495   2831.848339        1562.475930           1561.164183   \n",
      "14       8219.536700   8214.305715        8204.280981           8191.344718   \n",
      "15       6579.513800  10000.000000        6595.040200           6477.203800   \n",
      "16       3307.178375   3710.413846        3201.077992           3268.924692   \n",
      "17       6314.713234   6425.965250        6349.356291           6348.462331   \n",
      "18       4563.171125   5024.620190        5031.685065           4614.963245   \n",
      "19       3269.747731   2779.328985        2843.134783           2969.360860   \n",
      "20       9627.839000   7565.886515        7567.382550           8602.176950   \n",
      "21         51.486292      8.631892          11.378107             24.436307   \n",
      "22         22.042393      1.910267           4.718627              6.778635   \n",
      "23         87.800420     76.976980          85.084580             80.711240   \n",
      "24      10000.000000  10000.000000       10000.000000          10000.000000   \n",
      "25       5797.426677   4050.737971        4548.896345           4663.669084   \n",
      "\n",
      "    kissat_hywalk_gb  kissat_incsp  tabularasat_1_0_0          vbs  \n",
      "0       10000.000000  10000.000000       10000.000000     0.150499  \n",
      "1        8421.156000   8498.042500        8859.792000     1.612627  \n",
      "2        5679.281550   7517.549600        1148.165465     2.878104  \n",
      "3       10000.000000  10000.000000       10000.000000    17.865308  \n",
      "4         441.262257   1393.428684         784.273209    83.283786  \n",
      "5        1121.435170   1230.737050         301.658400   179.581580  \n",
      "6        1891.361950   1764.352500        2992.552055   234.839460  \n",
      "7        1217.342521   1261.133458        1738.745695  1087.904574  \n",
      "8       10000.000000  10000.000000        7084.290800  1151.087667  \n",
      "9        3179.988025   3278.651200        5068.617775  1540.171415  \n",
      "10       3662.462188   3713.337965        5054.125353  2193.435753  \n",
      "11       1529.145730    817.025313        1635.859539   269.447377  \n",
      "12       4041.283000   4055.107935        3474.179320  3401.255235  \n",
      "13       1566.088548   1564.118061        2818.376536  1443.627894  \n",
      "14       8194.164396   8201.424778        8247.102073  2728.014934  \n",
      "15       6640.797600   8479.718000       10000.000000  4895.983800  \n",
      "16       3194.570095   4039.813895        3718.662441  3012.372980  \n",
      "17       6338.818426   6343.425079        6348.290110  5063.780156  \n",
      "18       5026.604855   4671.750610        5024.283735  1333.870360  \n",
      "19       2871.630118   3022.089979        2942.212282   769.702094  \n",
      "20       8129.624550   7355.159495        7204.945500  5654.499733  \n",
      "21          8.042390      8.190592           8.910025     4.241514  \n",
      "22          3.859867   2004.396483           1.333641     1.050833  \n",
      "23         84.231380     81.727020          88.257140     4.890366  \n",
      "24      10000.000000  10000.000000       10000.000000  9700.118235  \n",
      "25       4555.190770   4732.047579        4434.802071  1679.895827  \n",
      "\n",
      "[26 rows x 45 columns]\n"
     ]
    }
   ],
   "source": [
    "from gbd_core.api import GBD\n",
    "import pandas as pd\n",
    "\n",
    "# This script computes the group-wise scores for the main track of the 2023 SAT Competition.\n",
    "\n",
    "with GBD(['results_main_detailed.csv']) as gbd:\n",
    "    solvers = [ s for s in gbd.get_features() if s not in [\"aresult\", \"vresult\"] ]\n",
    "\n",
    "with GBD(['meta.db', 'results_main_detailed.csv']) as gbd:\n",
    "    # get solver runtimes and instance families for the main track of the 2023 SAT Competition\n",
    "    df = gbd.query(\"track=main_2023\", resolve=solvers + [\"family\"], collapse='min')\n",
    "    # convert runtimes to numeric values\n",
    "    df[solvers] = df[solvers].apply(pd.to_numeric)\n",
    "    # penalize timeouts\n",
    "    for solver in solvers:\n",
    "        df.loc[df[solver] >= 5000, solver] = 10000\n",
    "    # compute the vbs score\n",
    "    df[\"vbs\"] = df[solvers].min(axis=1)\n",
    "    # group families with less than 5 instances into a single group\n",
    "    misc = df.groupby(\"family\").count().query(\"hash < 5\").index.tolist() + [\"empty\", \"unknown\"]\n",
    "    df.replace(misc, \"miscellaneous\", inplace=True)\n",
    "    # compute the group-wise scores\n",
    "    counts = df.groupby('family').count()[\"hash\"].rename(\"count\")\n",
    "    groups = df.groupby('family').mean(numeric_only=True)\n",
    "    tab = groups.merge(counts, on='family', how='left').reset_index()\n",
    "    tab[\"diff\"] = tab[solvers].max(axis=1) - tab[solvers].min(axis=1)\n",
    "    tab.sort_values(by=\"diff\", ascending=False, inplace=True)\n",
    "    tab = tab[[\"family\", \"count\"] + solvers + [\"vbs\"]]\n",
    "    # add the \"all\" row\n",
    "    all = df.mean(numeric_only=True).to_frame(\"score\").transpose()\n",
    "    all[\"family\"] = \"all\"\n",
    "    all[\"count\"] = len(df.index)\n",
    "    tab = pd.concat([tab, all], ignore_index=True)\n",
    "    print(tab)\n",
    "    #tables.group_wise_scores(tab, solvers + [ \"vbs\" ], [\"family\"], \"{}/{}.tex\".format(self.target_dir, name), bold_min_of=solvers, min_diff=0)\n"
   ]
  },
  {
   "cell_type": "markdown",
   "metadata": {},
   "source": [
    "## Category-wise Ranking"
   ]
  },
  {
   "cell_type": "code",
   "execution_count": null,
   "metadata": {},
   "outputs": [],
   "source": [
    "from gbd_core.api import GBD"
   ]
  },
  {
   "cell_type": "markdown",
   "metadata": {},
   "source": [
    "## Category Prediction"
   ]
  }
 ],
 "metadata": {
  "kernelspec": {
   "display_name": "Python 3",
   "language": "python",
   "name": "python3"
  },
  "language_info": {
   "codemirror_mode": {
    "name": "ipython",
    "version": 3
   },
   "file_extension": ".py",
   "mimetype": "text/x-python",
   "name": "python",
   "nbconvert_exporter": "python",
   "pygments_lexer": "ipython3",
   "version": "3.10.12"
  }
 },
 "nbformat": 4,
 "nbformat_minor": 2
}
