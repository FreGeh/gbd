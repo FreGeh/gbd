{
 "cells": [
  {
   "cell_type": "code",
   "execution_count": 6,
   "metadata": {},
   "outputs": [
    {
     "name": "stdout",
     "output_type": "stream",
     "text": [
      "created table stat\n",
      "[(1, 'a', 1.0), (2, 'b', 2.0)]\n"
     ]
    }
   ],
   "source": [
    "import sqlite3\n",
    "\n",
    "conn = sqlite3.connect(\":memory:\")\n",
    "c = conn.cursor()\n",
    "\n",
    "with conn:\n",
    "    sqlcreate = \"create table if not exists stat (id integer primary key, cat text, score real);\"\n",
    "\n",
    "    try:\n",
    "        cur = c.execute(\"SELECT * FROM stat\")\n",
    "    except sqlite3.OperationalError:\n",
    "        c.execute(sqlcreate)\n",
    "        print(\"created table stat\")\n",
    "\n",
    "    c.execute(\"\"\"insert into stat (cat, score) values ('a', 1.0);\"\"\")\n",
    "    c.execute(\"\"\"insert into stat (cat, score) values ('b', 2.0);\"\"\")\n",
    "    result = c.execute(\"\"\"select * from stat;\"\"\").fetchall()\n",
    "\n",
    "    print(result)"
   ]
  }
 ],
 "metadata": {
  "kernelspec": {
   "display_name": "Python 3",
   "language": "python",
   "name": "python3"
  },
  "language_info": {
   "codemirror_mode": {
    "name": "ipython",
    "version": 3
   },
   "file_extension": ".py",
   "mimetype": "text/x-python",
   "name": "python",
   "nbconvert_exporter": "python",
   "pygments_lexer": "ipython3",
   "version": "3.10.6"
  },
  "orig_nbformat": 4,
  "vscode": {
   "interpreter": {
    "hash": "916dbcbb3f70747c44a77c7bcd40155683ae19c65e1c03b4aa3499c5328201f1"
   }
  }
 },
 "nbformat": 4,
 "nbformat_minor": 2
}
